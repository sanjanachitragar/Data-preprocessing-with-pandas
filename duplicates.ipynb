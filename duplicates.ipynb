{
  "nbformat": 4,
  "nbformat_minor": 0,
  "metadata": {
    "colab": {
      "provenance": []
    },
    "kernelspec": {
      "name": "python3",
      "display_name": "Python 3"
    },
    "language_info": {
      "name": "python"
    }
  },
  "cells": [
    {
      "cell_type": "code",
      "execution_count": null,
      "metadata": {
        "colab": {
          "base_uri": "https://localhost:8080/"
        },
        "id": "Zn0KwGwuc47F",
        "outputId": "76b502d3-294d-4c73-cd77-09808c9c5bf6"
      },
      "outputs": [
        {
          "output_type": "stream",
          "name": "stdout",
          "text": [
            "True\n",
            "       0    1    2    3          4\n",
            "143  5.8  2.7  5.1  1.9  Virginica\n",
            "(151, 5)\n",
            "(150, 5)\n"
          ]
        }
      ],
      "source": [
        "import pandas as pd\n",
        "\n",
        "# load the dataset\n",
        "data = pd.read_csv('iris.csv', header=None)                         #file doesn't have a header row.\n",
        "\n",
        "# calculate duplicates\n",
        "dups = data.duplicated()\n",
        "\n",
        "# report if there are any duplicates\n",
        "print(dups.any())\n",
        "\n",
        "# list all duplicate rows\n",
        "print(data[dups])\n",
        "\n",
        "# shape before deleting rows of duplicate data\n",
        "print(data.shape)\n",
        "\n",
        "# delete duplicate rows from the dataset\n",
        "data.drop_duplicates(inplace=True)                #inplace=True parameter---changes made to the DataFrame should be applied in place, modifying the DataFrame directly.\n",
        "#                                              original DataFrame data is updated, and no new DataFrame is created. Duplicate rows are discarded, and DataFrame is modified in memory.\n",
        "#                                             If inplace=False or not specified (as the default), the drop_duplicates() method returns a new DataFrame with the duplicate rows removed,\n",
        "#                                                leaving the original DataFrame unchanged.\n",
        "\n",
        "# shape after deleting rows of duplicate data\n",
        "print(data.shape)"
      ]
    },
    {
      "cell_type": "code",
      "source": [
        "import pandas as pd\n",
        "from numpy import unique\n",
        "\n",
        "# summarize the number of unique values for each column using numpy\n",
        "# load the dataset\n",
        "data = pd.read_csv('oil_spill.csv', header=None)\n",
        "\n",
        "# summarize the number of unique values in each column\n",
        "print(data.nunique())\n",
        "\n",
        "# delete columns with a single unique value\n",
        "# define the location of the dataset\n",
        "print(data.shape)\n",
        "\n",
        "# get number of unique values for each column\n",
        "counts = data.nunique()\n",
        "\n",
        "# record columns to delete\n",
        "to_del = [i for i,v in enumerate(counts) if v == 1]                    # contains the indices of columns with only one unique value\n",
        "print(to_del)\n",
        "\n",
        "# drop useless columns\n",
        "data.drop(to_del, axis=1, inplace=True)       #axis argument to specify columns |inplace=True to modify DataFrame in place|removes columns with a single unique value from  DataFrame.\n",
        "print(data.shape)"
      ],
      "metadata": {
        "colab": {
          "base_uri": "https://localhost:8080/"
        },
        "id": "jl37XY_CeqlT",
        "outputId": "8da2d118-0019-485e-f089-ae9ad8f95a4f"
      },
      "execution_count": null,
      "outputs": [
        {
          "output_type": "stream",
          "name": "stdout",
          "text": [
            "0     238\n",
            "1     297\n",
            "2     927\n",
            "3     933\n",
            "4     179\n",
            "5     375\n",
            "6     820\n",
            "7     618\n",
            "8     561\n",
            "9      57\n",
            "10    577\n",
            "11     59\n",
            "12     73\n",
            "13    107\n",
            "14     53\n",
            "15     91\n",
            "16    893\n",
            "17    810\n",
            "18    170\n",
            "19     53\n",
            "20     68\n",
            "21      9\n",
            "22      1\n",
            "23     92\n",
            "24      9\n",
            "25      8\n",
            "26      9\n",
            "27    308\n",
            "28    447\n",
            "29    392\n",
            "30    107\n",
            "31     42\n",
            "32      4\n",
            "33     45\n",
            "34    141\n",
            "35    110\n",
            "36      3\n",
            "37    758\n",
            "38      9\n",
            "39      9\n",
            "40    388\n",
            "41    220\n",
            "42    644\n",
            "43    649\n",
            "44    499\n",
            "45      2\n",
            "46    937\n",
            "47    169\n",
            "48    286\n",
            "49      2\n",
            "dtype: int64\n",
            "(937, 50)\n",
            "[22]\n",
            "(937, 49)\n"
          ]
        }
      ]
    }
  ]
}